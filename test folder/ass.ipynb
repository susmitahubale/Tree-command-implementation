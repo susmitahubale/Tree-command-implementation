{
 "cells": [
  {
   "cell_type": "code",
   "execution_count": 10,
   "metadata": {},
   "outputs": [
    {
     "name": "stdout",
     "output_type": "stream",
     "text": [
      "Entre 1st num20\n",
      "Enter 2nd num30\n",
      "addition of two num is:  50\n",
      "substraction of two num is:  -10\n",
      "maltiplication of two num is:  600\n",
      "division of two num is:  0.6666666666666666\n",
      "modulus of two num is  20\n",
      "exposion of two num is  1073741824000000000000000000000000000000\n",
      "floor division of two num is  0\n"
     ]
    }
   ],
   "source": [
    "# Q.1  a program to enter two mumbers and perform all arithmatic operation.\n",
    "a=int(input(\"Entre 1st num\"))\n",
    "b=int(input(\"Enter 2nd num\"))\n",
    "    \n",
    "add= a+b\n",
    "sub= a-b\n",
    "mul= a*b\n",
    "div= a/b\n",
    "mod= a%b\n",
    "expo= a**b\n",
    "floordiv= a//b\n",
    "     \n",
    "print('addition of two num is: ', add)\n",
    "print('substraction of two num is: ', sub)\n",
    "print('maltiplication of two num is: ', mul)\n",
    "print('division of two num is: ', div)\n",
    "print('modulus of two num is ', mod)\n",
    "print('exposion of two num is ', expo)\n",
    "print('floor division of two num is ',floordiv)\n",
    "    "
   ]
  },
  {
   "cell_type": "code",
   "execution_count": 19,
   "metadata": {},
   "outputs": [
    {
     "name": "stdout",
     "output_type": "stream",
     "text": [
      "Enter length of 1st side of triangle49\n",
      "Enter length of 2nd side of triangle64\n",
      "Enter length of 3rd side of triangle81\n",
      "area of triangle is:  1567.9183652218633\n"
     ]
    }
   ],
   "source": [
    "# Q.2 Write a program to find area of a triangle using heron's formula.\n",
    "x=int(input(\"Enter length of 1st side of triangle\"))\n",
    "y=int(input(\"Enter length of 2nd side of triangle\"))\n",
    "z=int(input(\"Enter length of 3rd side of triangle\"))\n",
    "s= (x+y+z)/2\n",
    "area = (s*(s-x)*(s-y)*(s-z))**0.5\n",
    "print('area of triangle is: ',area)"
   ]
  },
  {
   "cell_type": "code",
   "execution_count": 25,
   "metadata": {},
   "outputs": [
    {
     "name": "stdout",
     "output_type": "stream",
     "text": [
      "Enter 1st num45\n",
      "Enter 2nd num76\n",
      "False\n",
      "True\n",
      "False\n",
      "True\n",
      "False\n",
      "True\n"
     ]
    }
   ],
   "source": [
    "# Q.3 write a program to enter two numbers and perform all relation operations.\n",
    "x=int(input(\"Enter 1st num\"))\n",
    "y=int(input(\"Enter 2nd num\"))\n",
    "\n",
    "print(x==y)\n",
    "print(x!=y)\n",
    "print(x>y)\n",
    "print(x<y)\n",
    "print(x>=y)\n",
    "print(x<=y)\n",
    "\n",
    "\n"
   ]
  },
  {
   "cell_type": "code",
   "execution_count": 26,
   "metadata": {},
   "outputs": [
    {
     "name": "stdout",
     "output_type": "stream",
     "text": [
      "Enter temperature in fahrenheit90\n",
      "temperature in celsius is: 32.22222222222222\n"
     ]
    }
   ],
   "source": [
    "#Q.4 write a C program to perform for different unit conversion (fahrenheit to celsius)\n",
    "T1 = int(input(\"Enter temperature in fahrenheit\"))\n",
    "T2=(\"temperature in celsius\")\n",
    "T2=((T1-32)/1.8)\n",
    "\n",
    "print(\"temperature in celsius is:\",T2)"
   ]
  },
  {
   "cell_type": "code",
   "execution_count": 39,
   "metadata": {},
   "outputs": [
    {
     "name": "stdout",
     "output_type": "stream",
     "text": [
      "Enter number81\n",
      "tan(x): -0.8109944158318942\n",
      "log(x): 4.394449154672439\n",
      "sqrt(x): 9.0\n"
     ]
    }
   ],
   "source": [
    "# Q.5 Take a real value x from the user and find the value of tan(x) ,log(x) ,square root of x .\n",
    "import math\n",
    "x=int(input('Enter number'))\n",
    "tan=math.tan(x)\n",
    "log=math.log(x)\n",
    "sqrt=math.sqrt(x)\n",
    "print(\"tan(x):\",tan)\n",
    "print(\"log(x):\",log)\n",
    "print(\"sqrt(x):\",sqrt)"
   ]
  },
  {
   "cell_type": "code",
   "execution_count": 32,
   "metadata": {},
   "outputs": [
    {
     "name": "stdout",
     "output_type": "stream",
     "text": [
      " Enter radius of circle5\n",
      "Enter value of constant 3.14\n",
      "area of circle is: 78.5\n",
      "circumferance of circle is: 31.400000000000002\n"
     ]
    }
   ],
   "source": [
    "# Q.6 Write program to calculate area and circumference of circle using variable and constant.\n",
    "R=float(input(\" Enter radius of circle\"))\n",
    "p=float(input(\"Enter value of constant \"))\n",
    "a=p*(R**2)\n",
    "l=(2*p*R)\n",
    " \n",
    "print(\"area of print(\"addition of two complex num is:\", add)circle is:\", a)\n",
    "print(\"circumferance of circle is:\", l)\n"
   ]
  },
  {
   "cell_type": "code",
   "execution_count": 33,
   "metadata": {},
   "outputs": [
    {
     "name": "stdout",
     "output_type": "stream",
     "text": [
      "Entre 1st num3.7j\n",
      "Enter 2nd num4.6j\n",
      "addition of two complex num is: 8.3j\n",
      "substraction of two complex num is: -0.8999999999999995j\n"
     ]
    }
   ],
   "source": [
    "# Q.7 Write program to add and substract two complex numbers.\n",
    "a=complex(input(\"Entre 1st num\"))\n",
    "b=complex(input(\"Enter 2nd num\"))\n",
    "\n",
    "add=a+b\n",
    "sub=a-b\n",
    "\n",
    "print(\"addition of two complex num is:\", add)\n",
    "print(\"substraction of two complex num is:\", sub)"
   ]
  },
  {
   "cell_type": "code",
   "execution_count": 36,
   "metadata": {},
   "outputs": [
    {
     "name": "stdout",
     "output_type": "stream",
     "text": [
      "Enter 1st num6\n",
      "Enter 2nd num8\n",
      "False\n",
      "True\n",
      "True\n"
     ]
    }
   ],
   "source": [
    "# Q.8 Write a program to enter two numbers and perform a logical operation.\n",
    "x=int(input(\"Enter 1st num\" ))\n",
    "y=int(input(\"Enter 2nd num\"))\n",
    "print(x>y and x==y)\n",
    "print(x==y or x<=y)\n",
    "print(not(x>=y or x>y))"
   ]
  },
  {
   "cell_type": "code",
   "execution_count": 37,
   "metadata": {},
   "outputs": [
    {
     "name": "stdout",
     "output_type": "stream",
     "text": [
      "Enter 1st number1010\n",
      "Enter 2nd number0011\n",
      "2\n",
      "1019\n",
      "1017\n"
     ]
    }
   ],
   "source": [
    "# Q.9 Write a program to enter two numbers and perform all bitwise operation.\n",
    "a= int(input(\"Enter 1st number\"))\n",
    "b= int(input(\"Enter 2nd number\"))\n",
    "print(a&b)\n",
    "print(a|b)\n",
    "print(a^b)"
   ]
  },
  {
   "cell_type": "code",
   "execution_count": 38,
   "metadata": {},
   "outputs": [
    {
     "name": "stdout",
     "output_type": "stream",
     "text": [
      "Enter 1st num8\n",
      "Enter 2nd num3\n",
      "after swapping a value of a: 3\n",
      "after swapping a value of b: 8\n"
     ]
    }
   ],
   "source": [
    "# Q.10 Write a program to swap two numbers.\n",
    "a=int(input(\"Enter 1st num\"))\n",
    "b=int(input(\"Enter 2nd num\"))\n",
    "\n",
    "c=a\n",
    "a=b\n",
    "b=c\n",
    "print(\"after swapping a value of a:\", a)\n",
    "print(\"after swapping a value of b:\", b)"
   ]
  },
  {
   "cell_type": "code",
   "execution_count": null,
   "metadata": {},
   "outputs": [],
   "source": []
  }
 ],
 "metadata": {
  "celltoolbar": "Attachments",
  "kernelspec": {
   "display_name": "Python 3",
   "language": "python",
   "name": "python3"
  },
  "language_info": {
   "codemirror_mode": {
    "name": "ipython",
    "version": 3
   },
   "file_extension": ".py",
   "mimetype": "text/x-python",
   "name": "python",
   "nbconvert_exporter": "python",
   "pygments_lexer": "ipython3",
   "version": "3.8.5"
  }
 },
 "nbformat": 4,
 "nbformat_minor": 4
}
